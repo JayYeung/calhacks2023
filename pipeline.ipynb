{
 "cells": [
  {
   "cell_type": "markdown",
   "metadata": {},
   "source": [
    "## libraries"
   ]
  },
  {
   "cell_type": "code",
   "execution_count": 8,
   "metadata": {},
   "outputs": [],
   "source": [
    "import openai\n",
    "from functools import cache"
   ]
  },
  {
   "cell_type": "markdown",
   "metadata": {},
   "source": [
    "## Step 1: Use RAG, query the database and give additional information to make the prompt better. (aka APES textbook) \n",
    "\n",
    "folded"
   ]
  },
  {
   "cell_type": "markdown",
   "metadata": {},
   "source": [
    "## Step 2: Initial LLM output: \n",
    "Primer: tell it that its an educational bot and it can wrap things in image tags to draw images as well. Include an example input and example output. \n",
    "\n",
    "Additional context: this, you will get from step 1. \n"
   ]
  },
  {
   "cell_type": "code",
   "execution_count": 9,
   "metadata": {},
   "outputs": [],
   "source": [
    "primer ='''\n",
    "You are an automatic wikihow bot website creator where I feed you a prompt and you generate all of the steps in order to achieve this prompt. DO insert a couple of images to show the user how to do the task. \n",
    "\n",
    "1. Take that task, devise 3-8 detailed, separate steps on how to complete the task.\n",
    "2. Give me an exact prompt to give to a model that outputs an ai generated image, given a descriptive text prompt outlining every precise detail of the desired image. Each prompt per step should be 50 words or less, so be descriptive but concise. Surround the decsription tag with <image> tags.\n",
    "\n",
    "ONLY respond with text, DO NOT respond with markdown or other formatting. \n",
    "\n",
    "EXAMPLE USER QUERY: \n",
    "“I want to learn how to ride a bike\".\n",
    "\n",
    "EXAMPLE OUTPUT: \n",
    "How to Ride a Bike\n",
    "\n",
    "Step 1: Choose the Right Bike\n",
    "Pick a bike that fits your height and comfort. Your feet should touch the ground when seated.\n",
    "<image> Image of different bike sizes and a person measuring for fit. <image>\n",
    "\n",
    "Step 2: Find a Suitable Area\n",
    "Start in a flat, open area, like a park, away from traffic.\n",
    "<image> Image of an open park with a marked biking area. <image>\n",
    "\n",
    "Step 3: Wear Safety Gear\n",
    "Put on a helmet and protective pads for safety.\n",
    "<image> Image of a person wearing a helmet, elbow pads, and knee pads. <image>\n",
    "\n",
    "Step 4: Mount the Bike\n",
    "Stand next to the bike, grip the handles, and swing one leg over to sit.\n",
    "<image> Image of a person mounting a bike step-by-step. <image>\n",
    "\n",
    "Step 5: Find Your Balance\n",
    "Push off with one foot and coast, placing feet on the pedals only when you've found balance.\n",
    "<image> Image of a person coasting and balancing on a bike. <image>\n",
    "\n",
    "Step 6: Start Pedaling\n",
    "Begin pedaling slowly. Look forward, keeping hands on the handlebars.\n",
    "<image> Image of a person pedaling and moving forward. <image>\n",
    "\n",
    "Step 7: Practice Steering\n",
    "Turn the handlebars gently in the direction you want to go.\n",
    "<image> Image of hands turning bike handlebars. <image>\n",
    "\n",
    "Step 8: Learn to Brake\n",
    "Familiarize yourself with both front and rear brakes. Press them gently to slow down or stop.\n",
    "<image> Image of hands squeezing bike brakes. <image>\n",
    "\n",
    "Step 9: Ride Regularly\n",
    "Practice often to build confidence and improve skills.\n",
    "<image> Image of a person riding through various terrains. <image>\n",
    "'''\n",
    "\n",
    "\n",
    "@cache\n",
    "def get_gpt_response(query: str):\n",
    "    augmented_query = f'{query}\\n\\n\"OUTPUT: \"'\n",
    "    res = openai.ChatCompletion.create(\n",
    "        model=\"gpt-3.5-turbo\",\n",
    "        messages=[\n",
    "            {\"role\": \"system\", \"content\": primer},\n",
    "            {\"role\": \"user\", \"content\": augmented_query}\n",
    "        ]\n",
    "    )\n",
    "    return res['choices'][0]['message']['content']\n"
   ]
  },
  {
   "cell_type": "code",
   "execution_count": 55,
   "metadata": {},
   "outputs": [],
   "source": [
    "import together\n",
    "from functools import cache\n",
    "import base64\n",
    "from PIL import Image\n",
    "from io import BytesIO\n",
    "from IPython.display import display\n",
    "from random import randint\n",
    "\n",
    "together.api_key = 'dd6fc37975f3b9e88b25fa63b1ddd22ad6043a4449c39d061ffc6c8117a85f33'\n",
    "\n",
    "@cache\n",
    "def description_to_image(description: str, index: int):\n",
    "    model_list = together.Models.list()\n",
    "\n",
    "    output = together.Image.create(\n",
    "        prompt = description + ' in color', \n",
    "        model = \"SG161222/Realistic_Vision_V3.0_VAE\",\n",
    "        width = 512, \n",
    "        height = 512,\n",
    "        steps = 20,\n",
    "        seed = randint(0, 100)\n",
    "    )\n",
    "    \n",
    "    base64_string = output['output']['choices'][0]['image_base64']\n",
    "    image_data = base64.b64decode(base64_string)\n",
    "    image_buffer = BytesIO(image_data)\n",
    "    image = Image.open(image_buffer)\n",
    "    image.save(f'images/{index}.png')"
   ]
  },
  {
   "cell_type": "code",
   "execution_count": 56,
   "metadata": {},
   "outputs": [],
   "source": [
    "# query = 'I want to learn how to change a tire' \n",
    "query = 'tour guide on paris'\n",
    "\n",
    "res = get_gpt_response(query)\n",
    "for idx, description in enumerate(res.split('<image>')[1::2]):\n",
    "    description_to_image(description, idx)"
   ]
  },
  {
   "cell_type": "code",
   "execution_count": 29,
   "metadata": {},
   "outputs": [
    {
     "data": {
      "text/plain": [
       "' Image of a person reading a book or studying about Parisian history and culture. '"
      ]
     },
     "execution_count": 29,
     "metadata": {},
     "output_type": "execute_result"
    }
   ],
   "source": [
    "description"
   ]
  },
  {
   "cell_type": "code",
   "execution_count": 59,
   "metadata": {},
   "outputs": [
    {
     "name": "stdout",
     "output_type": "stream",
     "text": [
      "How to Be a Tour Guide in Paris\n",
      "\n",
      "Step 1: Learn the History and Culture\n",
      "Study the rich history and vibrant culture of Paris, including famous landmarks, art, and cuisine.\n",
      "<image> Image of a person reading a book or studying about Parisian history and culture. <image>\n",
      "\n",
      "Step 2: Know the Top Attractions\n",
      "Familiarize yourself with popular tourist destinations, such as the Eiffel Tower, Louvre Museum, and Notre-Dame Cathedral.\n",
      "<image> Image of a person holding a map with marked locations of top attractions in Paris. <image>\n",
      "\n",
      "Step 3: Master the Language\n",
      "Learn basic French phrases to communicate with both locals and tourists. Practice pronunciation and common expressions.\n",
      "<image> Image of a person using language learning resources or talking to a language tutor. <image>\n",
      "\n",
      "Step 4: Develop a Route\n",
      "Plan an efficient and engaging tour route that covers major landmarks and offers interesting insights and facts.\n",
      "<image> Image of a person using a map and plotting a tour route with important stops in Paris. <image>\n",
      "\n",
      "Step 5: Provide Interesting Facts and Stories\n",
      "Research captivating historical anecdotes and interesting facts about the attractions to share with your tour group.\n",
      "<image> Image of a person reading a book or browsing the internet for intriguing facts about Paris. <image>\n",
      "\n",
      "Step 6: Enhance Communication Skills\n",
      "Practice clear and engaging communication techniques, such as storytelling, effective body language, and group interaction.\n",
      "<image> Image of a person practicing public speaking or conducting a mock tour for friends. <image>\n",
      "\n",
      "Step 7: Learn to Handle Different Situations\n",
      "Gain knowledge on managing diverse groups, handling unexpected challenges, and providing excellent customer service.\n",
      "<image> Image of a person role-playing common situations like lost tourists or changes in itinerary. <image>\n",
      "\n",
      "Step 8: Stay Updated with Current Events\n",
      "Stay informed on local events, exhibitions, and festivals happening in Paris to offer the latest recommendations to your group.\n",
      "<image> Image of a person reading newspapers or browsing websites to stay updated on current events in Paris. <image>\n",
      "\n",
      "Step 9: Obtain Necessary Licenses\n",
      "Check the legal requirements and obtain any necessary licenses or permits to operate as a tour guide in Paris.\n",
      "<image> Image of a person filling out paperwork or applying for licenses to become a certified tour guide in Paris. <image>\n",
      "\n",
      "Step 10: Offer Excellent Customer Service\n",
      "Provide a friendly, informative, and memorable experience for your tour group. Offer assistance and address their needs.\n",
      "<image> Image of a person interacting with a tour group, answering questions and providing assistance. <image>\n"
     ]
    }
   ],
   "source": [
    "print(res)"
   ]
  },
  {
   "cell_type": "code",
   "execution_count": 83,
   "metadata": {},
   "outputs": [
    {
     "name": "stdout",
     "output_type": "stream",
     "text": [
      "Step 1 -  Learn the History and Culture\n",
      "Study the rich history and vibrant culture of Paris, including famous landmarks, art, and cuisine.\n",
      " -  Image of a person reading a book or studying about Parisian history and culture. \n",
      "Step 2 -  Know the Top Attractions\n",
      "Familiarize yourself with popular tourist destinations, such as the Eiffel Tower, Louvre Museum, and Notre-Dame Cathedral.\n",
      " -  Image of a person holding a map with marked locations of top attractions in Paris. \n",
      "Step 3 -  Master the Language\n",
      "Learn basic French phrases to communicate with both locals and tourists. Practice pronunciation and common expressions.\n",
      " -  Image of a person using language learning resources or talking to a language tutor. \n",
      "Step 4 -  Develop a Route\n",
      "Plan an efficient and engaging tour route that covers major landmarks and offers interesting insights and facts.\n",
      " -  Image of a person using a map and plotting a tour route with important stops in Paris. \n",
      "Step 5 -  Provide Interesting Facts and Stories\n",
      "Research captivating historical anecdotes and interesting facts about the attractions to share with your tour group.\n",
      " -  Image of a person reading a book or browsing the internet for intriguing facts about Paris. \n",
      "Step 6 -  Enhance Communication Skills\n",
      "Practice clear and engaging communication techniques, such as storytelling, effective body language, and group interaction.\n",
      " -  Image of a person practicing public speaking or conducting a mock tour for friends. \n",
      "Step 7 -  Learn to Handle Different Situations\n",
      "Gain knowledge on managing diverse groups, handling unexpected challenges, and providing excellent customer service.\n",
      " -  Image of a person role-playing common situations like lost tourists or changes in itinerary. \n",
      "Step 8 -  Stay Updated with Current Events\n",
      "Stay informed on local events, exhibitions, and festivals happening in Paris to offer the latest recommendations to your group.\n",
      " -  Image of a person reading newspapers or browsing websites to stay updated on current events in Paris. \n",
      "Step 9 -  Obtain Necessary Licenses\n",
      "Check the legal requirements and obtain any necessary licenses or permits to operate as a tour guide in Paris.\n",
      " -  Image of a person filling out paperwork or applying for licenses to become a certified tour guide in Paris. \n",
      "Step 10 -  Offer Excellent Customer Service\n",
      "Provide a friendly, informative, and memorable experience for your tour group. Offer assistance and address their needs.\n",
      " -  Image of a person interacting with a tour group, answering questions and providing assistance. \n"
     ]
    }
   ],
   "source": [
    "text = get_gpt_response(query)\n",
    "\n",
    "steps = text.split(':')\n",
    "title = steps[0].split('\\n')[0]\n",
    "\n",
    "for idx, step in enumerate(steps[1:]):\n",
    "    pair = step.split(\"Step\")[0].split('<image>')\n",
    "    print(f'Step {idx+1} - instructions: {pair[0]} - image description: {pair[1]}')\n"
   ]
  },
  {
   "cell_type": "code",
   "execution_count": 68,
   "metadata": {},
   "outputs": [
    {
     "data": {
      "text/plain": [
       "'How to Be a Tour Guide in Paris\\n\\nStep 1'"
      ]
     },
     "execution_count": 68,
     "metadata": {},
     "output_type": "execute_result"
    }
   ],
   "source": []
  },
  {
   "cell_type": "code",
   "execution_count": null,
   "metadata": {},
   "outputs": [],
   "source": []
  }
 ],
 "metadata": {
  "kernelspec": {
   "display_name": "Python 3",
   "language": "python",
   "name": "python3"
  },
  "language_info": {
   "codemirror_mode": {
    "name": "ipython",
    "version": 3
   },
   "file_extension": ".py",
   "mimetype": "text/x-python",
   "name": "python",
   "nbconvert_exporter": "python",
   "pygments_lexer": "ipython3",
   "version": "3.11.4"
  }
 },
 "nbformat": 4,
 "nbformat_minor": 2
}
